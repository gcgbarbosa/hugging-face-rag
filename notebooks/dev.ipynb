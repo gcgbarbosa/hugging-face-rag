{
 "cells": [
  {
   "cell_type": "code",
   "execution_count": 2,
   "metadata": {},
   "outputs": [],
   "source": [
    "import os\n",
    "os.chdir('../')\n",
    "\n",
    "import pandas as pd"
   ]
  },
  {
   "cell_type": "code",
   "execution_count": null,
   "metadata": {},
   "outputs": [],
   "source": [
    "%pip install transformers"
   ]
  },
  {
   "cell_type": "code",
   "execution_count": 3,
   "metadata": {},
   "outputs": [
    {
     "name": "stderr",
     "output_type": "stream",
     "text": [
      "c:\\Users\\gcgba\\miniconda3\\Lib\\site-packages\\tqdm\\auto.py:21: TqdmWarning: IProgress not found. Please update jupyter and ipywidgets. See https://ipywidgets.readthedocs.io/en/stable/user_install.html\n",
      "  from .autonotebook import tqdm as notebook_tqdm\n"
     ]
    }
   ],
   "source": [
    "from src.pdf_http_converter import PdfHttpConverter\n",
    "from src.llm_completition import DetectionDrugsLLMAction, DrugQALLMAction\n",
    "from src.drug_database_info import DrugDatabaseInfo\n",
    "from src.chatbot import ChatBot\n",
    "# from src.document_splitter import "
   ]
  },
  {
   "cell_type": "code",
   "execution_count": 4,
   "metadata": {},
   "outputs": [
    {
     "name": "stdout",
     "output_type": "stream",
     "text": [
      "Initializing TonicBot\n",
      "==================================\n",
      "\n"
     ]
    }
   ],
   "source": [
    "cb = ChatBot('TonicBot')"
   ]
  },
  {
   "cell_type": "code",
   "execution_count": 6,
   "metadata": {},
   "outputs": [],
   "source": [
    "questions = [\"atorvastatina?\",\n",
    "\"orbenin?\",\n",
    "\"orbenin 250mg?\",\n",
    "\"código atc furosemida?\",\n",
    "\"ibuprofeno en mujeres embarazadas?\",\n",
    "\"substancia activa presar?\" ,\n",
    "\"laboratorios citicolina?\"]"
   ]
  },
  {
   "cell_type": "code",
   "execution_count": 7,
   "metadata": {},
   "outputs": [
    {
     "name": "stderr",
     "output_type": "stream",
     "text": [
      "Ranking by BM25...: 100%|██████████| 79/79 [00:00<00:00, 26335.24 docs/s]\n"
     ]
    },
    {
     "name": "stdout",
     "output_type": "stream",
     "text": [
      "atorvastatina?\n",
      "La atorvastatina es un medicamento que se utiliza para tratar la hipercolesterolemia primaria y dislipidemias mixtas como coadyuvante de la dieta, otras medidas terapéuticas (estilo de vida) y terapia de reemplazo enzimático en pacientes con hipercolesterolemia familiar homocigota. Está disponible en comprimidos recubiertos con película de 10, 20, 40 y 80 mg.\n"
     ]
    },
    {
     "name": "stderr",
     "output_type": "stream",
     "text": [
      "Ranking by BM25...: 100%|██████████| 19/19 [00:00<00:00, 19051.34 docs/s]\n"
     ]
    },
    {
     "name": "stdout",
     "output_type": "stream",
     "text": [
      "orbenin?\n",
      "Orbenin es un medicamento que contiene cloxacilina como sustancia activa y se utiliza para tratar infecciones no complicadas de piel y tejidos blandos, como el impétigo. Se presenta en forma de cápsulas duras de 500 mg y requiere receta médica. El tratamiento debe ser determinado por el médico en función de la respuesta del paciente y no debe sobrepasar los 14 días.\n"
     ]
    },
    {
     "name": "stderr",
     "output_type": "stream",
     "text": [
      "Ranking by BM25...: 100%|██████████| 19/19 [00:00<00:00, 18978.75 docs/s]\n"
     ]
    },
    {
     "name": "stdout",
     "output_type": "stream",
     "text": [
      "orbenin 250mg?\n",
      "No, Orbenin no está disponible en una dosis de 250 mg. Las dosis disponibles son 500 mg y 1 g.\n"
     ]
    },
    {
     "name": "stderr",
     "output_type": "stream",
     "text": [
      "Ranking by BM25...: 100%|██████████| 40/40 [00:00<00:00, 20001.45 docs/s]\n"
     ]
    },
    {
     "name": "stdout",
     "output_type": "stream",
     "text": [
      "código atc furosemida?\n",
      "C03CA01.\n"
     ]
    },
    {
     "name": "stderr",
     "output_type": "stream",
     "text": [
      "Ranking by BM25...: 100%|██████████| 32/32 [00:00<00:00, 16003.07 docs/s]\n"
     ]
    },
    {
     "name": "stdout",
     "output_type": "stream",
     "text": [
      "ibuprofeno en mujeres embarazadas?\n",
      "No se recomienda el uso de ibuprofeno durante el embarazo, especialmente durante el primer y segundo trimestre. Durante el tercer trimestre, está contraindicado debido al riesgo de toxicidad cardio-pulmonar, disfunción renal, prolongación del tiempo de hemorragia y posible inhibición de las contracciones uterinas. Además, el uso de ibuprofeno puede alterar la fertilidad femenina y no se recomienda en mujeres que están intentando concebir.\n"
     ]
    },
    {
     "name": "stderr",
     "output_type": "stream",
     "text": [
      "Ranking by BM25...: 100%|██████████| 68/68 [00:00<00:00, 22700.79 docs/s]\n"
     ]
    },
    {
     "name": "stdout",
     "output_type": "stream",
     "text": [
      "substancia activa presar?\n",
      "La sustancia activa de Presar es valsartán.\n"
     ]
    },
    {
     "name": "stderr",
     "output_type": "stream",
     "text": [
      "Ranking by BM25...: 100%|██████████| 12/12 [00:00<00:00, 12049.71 docs/s]\n"
     ]
    },
    {
     "name": "stdout",
     "output_type": "stream",
     "text": [
      "laboratorios citicolina?\n",
      "El laboratorio que fabrica Citicolina es OPKO HEALTH SPAIN S.L.\n"
     ]
    }
   ],
   "source": [
    "for q in questions:\n",
    "    r = cb.respond(q)\n",
    "    print(q)\n",
    "    print(r)"
   ]
  }
 ],
 "metadata": {
  "kernelspec": {
   "display_name": "base",
   "language": "python",
   "name": "python3"
  },
  "language_info": {
   "codemirror_mode": {
    "name": "ipython",
    "version": 3
   },
   "file_extension": ".py",
   "mimetype": "text/x-python",
   "name": "python",
   "nbconvert_exporter": "python",
   "pygments_lexer": "ipython3",
   "version": "3.11.5"
  }
 },
 "nbformat": 4,
 "nbformat_minor": 2
}
